{
 "cells": [
  {
   "cell_type": "markdown",
   "metadata": {},
   "source": [
    "# Proje 1 - Pandas ile Veri Analizi\n",
    "Aşağıda belirtilen soruların cevaplarını, ilgili boş hücrelere yazınız ve adı öğrenci numaralarından (proje, 1 ve/veya 2 kişi yapılabilir) oluşan nihai Jupyter Notebook (.jpynb) dosyasını, 03.04.2018 Salı geceyarısına kadar http://sorubank.ege.edu.tr/~moodle web sitesindeki ilgili ders sayfasını kullanılarak sisteme yükleyiniz. 04.04.2018 Çarşamba günü ders saatlerinde sınıfta proje kontrolü yapılacaktır, kontrol sırasında projeyi yapan herkesin bulunması gereklidir. Herhangi bir sorunuz olursa, http://sorubank.ege.edu.tr/~moodle web sitesindeki ilgili ders sayfasında bu proje ile ilgili açılan forumu kullanınız."
   ]
  },
  {
   "cell_type": "markdown",
   "metadata": {},
   "source": [
    "### Soru-1 (15 puan)\n",
    "### Ülkelere ilişkin kişi başı gayri safi yurt içi hasıla verilerini alın:\n",
    "Birleşmiş Milletler İnsani Gelişmişlik Raporları (Human Deveoplemen Reports) sitesinde, farklı boyutlar altında çeşitli göstergeleri içeren, ülkelerin 1990-2015 yılları arasındaki İnsani Gelişmişlik Verileri (http://hdr.undp.org/en/data) bulunmaktadır. Bu verilerden \"Income/composition of resources\" boyutu altında yer alan, \"Gross domestic product (GDP) per capita\" (kişi başı gayri safi yurt içi hasıla) göstergesine ilişkin verileri indirin (\"Gross domestic product (GDP) per capita (2011 PPP $).csv\"). Bu dosyadan verileri yükleyin ve bir DataFrame oluşturun.\n",
    "\n",
    "### Veri Temizleme&Düzenleme:\n",
    "```\n",
    "1- Kodlamayı, ISO-8859-1 olarak ayarlayın (read_csv fonksiyonu içindeki encoding parametresi ile)\n",
    "2- Dosyanın ilk satırını atlayın\n",
    "3- Son satırı silin\n",
    "4- Boş sütunları (bütün değerleri 'NaN' olan sütunları) silin\n",
    "5- Herhangi bir verisi boş ('NaN') olan ülkeleri silin\n",
    "6- Country sütununda bulunan değerlerin sonundaki ekstra boşlukları silin\n",
    "7- Country sütunundaki ülke isimlerinin bazılarını aşağıdaki şekilde yeniden adlandırın:\n",
    "    'Korea (Republic of)':'South Korea',\n",
    "    'Venezuela (Bolivarian Republic of)':'Venezuela',\n",
    "    'The former Yugoslav Republic of Macedonia':'Macedonia',\n",
    "    'Hong Kong, China (SAR)':'Hong Kong'\n",
    "```"
   ]
  },
  {
   "cell_type": "code",
   "execution_count": null,
   "metadata": {},
   "outputs": [],
   "source": [
    "import pandas as pd\n",
    "import numpy as np\n",
    "import matplotlib.pyplot as plt\n",
    "#Ahmet Faruk Aktaş - Mertcan Takıl\n",
    "gdp = pd.DataFrame(pd.read_csv('Gross domestic product (GDP) per capita (2011 PPP $).csv', skiprows=1, encoding = 'ISO-8859-1'))\n",
    "gdp = gdp.drop(len(gdp)-1)\n",
    "gdp = gdp.dropna(axis=1, how='all')\n",
    "gdp = gdp.dropna(axis=0, how='any')\n",
    "gdp['Country'] = gdp['Country'].str.strip()\n",
    "gdp['Country'] = gdp['Country'].replace({'Korea (Republic of)':'South Korea', 'Venezuela (Bolivarian Republic of)':'Venezuela', 'The former Yugoslav Republic of Macedonia':'Macedonia', 'Hong Kong, China (SAR)':'Hong Kong'})"
   ]
  },
  {
   "cell_type": "markdown",
   "metadata": {},
   "source": [
    "### Ülkelere ilişkin coğrafi verileri alın:\n",
    "Geonames veri tabanından ülkelere ilişkin coğrafi verileri içeren dosyadan (http://download.geonames.org/export/dump/countryInfo.txt) verileri yükleyin ve başka bir DataFrame daha oluşturun.\n",
    "\n",
    "### Veri Temizleme&Düzenleme:\n",
    "```\n",
    "1- Dosyanın ilk 50 satırını atlayın\n",
    "2- Son satırı silin\n",
    "3- '#ISO' sütununun ismini 'CountryCode' olarak değiştirin\n",
    "4- 'ISO3', 'ISO-Numeric', 'fips', 'EquivalentFipsCode', 'Postal Code Format', 'Postal Code Regex' ve 'geonameid' sütunlarını silin\n",
    "5- Kıta (Continent) değeri boş ('NaN') olan ülkelerin kıta değerini 'NA' (North America) olarak değiştirin\n",
    "```"
   ]
  },
  {
   "cell_type": "code",
   "execution_count": null,
   "metadata": {},
   "outputs": [],
   "source": [
    "ci = pd.DataFrame(pd.read_csv(\"countryInfo.txt\", sep=\"\\t\", header=None, skiprows=50))\n",
    "ci = ci.drop(len(ci)-1)\n",
    "ci = ci.replace({'#ISO':'CountryCode'})\n",
    "ci = ci.rename(columns=ci.iloc[0])\n",
    "ci = ci.drop(0)\n",
    "ci = ci.drop(columns = {'ISO3', 'ISO-Numeric', 'fips', 'EquivalentFipsCode', 'Postal Code Format', 'Postal Code Regex', 'geonameid'})\n",
    "ci['Continent'] = ci['Continent'].replace({np.NaN:'NA'})"
   ]
  },
  {
   "cell_type": "markdown",
   "metadata": {},
   "source": [
    "### Verilerinizi birleştirin:\n",
    "Ülke adı ('Country') sütunlarının kesişimini kullanarak bu iki veri kümesini birleştirin ve 'Country' sütununu index olarak beirleyin."
   ]
  },
  {
   "cell_type": "code",
   "execution_count": null,
   "metadata": {},
   "outputs": [],
   "source": [
    "intersection = pd.merge(gdp, ci, on = 'Country')\n",
    "intersection = intersection.rename(intersection['Country'])\n",
    "intersection = intersection.drop(columns = {'Country'})"
   ]
  },
  {
   "cell_type": "markdown",
   "metadata": {},
   "source": [
    "### Soru-2  (10 puan)\n",
    "Ülkelerin, 1990-2015 yıllarını kapsayan 'GDP ortalama' değerlerini bulun ve veri setine yeni bir sütun olarak ekleyin."
   ]
  },
  {
   "cell_type": "code",
   "execution_count": null,
   "metadata": {},
   "outputs": [],
   "source": [
    "\n",
    "intersection['GDP-ortalama'] = intersection.loc[:, '1990':'2015'].mean(axis = 1)"
   ]
  },
  {
   "cell_type": "markdown",
   "metadata": {},
   "source": [
    "Ülkelerin GDP ortalamalarını gösteren bir histogram (hist) çizin."
   ]
  },
  {
   "cell_type": "code",
   "execution_count": null,
   "metadata": {
    "collapsed": true
   },
   "outputs": [],
   "source": [
    "intersection.hist(column='GDP-ortalama')\n",
    "plt.show()"
   ]
  },
  {
   "cell_type": "markdown",
   "metadata": {},
   "source": [
    "GDP ortalaması en yüksek ilk 10 ülkeyi gösteren bir sütun (bar) grafik çizin."
   ]
  },
  {
   "cell_type": "code",
   "execution_count": null,
   "metadata": {},
   "outputs": [],
   "source": [
    "intersection.nlargest(10, columns='GDP-ortalama').loc[:, 'GDP-ortalama'].plot.bar()\n",
    "plt.show()"
   ]
  },
  {
   "cell_type": "markdown",
   "metadata": {},
   "source": [
    "### Soru-3  (5 puan)\n",
    "Her ülkenin kişi başına düşen yüzey alanını hesaplayınız ve kişi başına düşen yüzey alanı en küçük olan ilk 20 ülkeyi gösteren bir sütun grafik çizin."
   ]
  },
  {
   "cell_type": "code",
   "execution_count": null,
   "metadata": {},
   "outputs": [],
   "source": [
    "intersection['Area(in sq km)'] = pd.to_numeric(intersection['Area(in sq km)'])\n",
    "intersection['Population'] = pd.to_numeric(intersection['Population'])\n",
    "(intersection['Area(in sq km)']/intersection['Population']).nsmallest(20).plot.bar()\n",
    "plt.show()"
   ]
  },
  {
   "cell_type": "markdown",
   "metadata": {},
   "source": [
    "### Soru-4  (10 puan)\n",
    "Kıtalara göre 'GDP ortalama' değerlerini gösteren bir sütun grafik çizin."
   ]
  },
  {
   "cell_type": "code",
   "execution_count": null,
   "metadata": {},
   "outputs": [],
   "source": [
    "intersection[['GDP-ortalama','Continent']].groupby('Continent').plot.barh()\n",
    "plt.show()"
   ]
  },
  {
   "cell_type": "markdown",
   "metadata": {},
   "source": [
    "Kıtalara göre toplam nüfus ve toplam alan dağılımlarını gösteren pasta (pie) grafikleri içeren bir şekil (figure) çizin. "
   ]
  },
  {
   "cell_type": "code",
   "execution_count": null,
   "metadata": {},
   "outputs": [],
   "source": [
    "intersection.groupby('Continent').plot.barh(x = 'Continent', y = 'GDP-ortalama')\n",
    "intersection.groupby('Continent')['Population'].sum().plot.pie()\n",
    "plt.show()"
   ]
  },
  {
   "cell_type": "markdown",
   "metadata": {},
   "source": [
    "### Soru-5 (8 puan)\n",
    "Veri setinden Türkiye'nin komşularını bulun, bu ülkelerin ve Türkiye'nin GDP ortalamalarını gösteren bir sütun grafik çizin."
   ]
  },
  {
   "cell_type": "code",
   "execution_count": null,
   "metadata": {},
   "outputs": [],
   "source": [
    "intersection.loc[intersection['CountryCode'].isin(intersection.loc['Turkey', 'neighbours'].split(',')), 'GDP-ortalama'].plot.bar()\n",
    "plt.show()"
   ]
  },
  {
   "cell_type": "markdown",
   "metadata": {},
   "source": [
    "### Soru-6 (12 puan) \n",
    "Her ülke için o ülkenin komşu ülkelerinin ortalama GDP değerlerinin ortalamasını hesaplayarak yeni bir seri oluşturunuz (eğer bir ülkenin komuşusu yoksa kendi GDP ortalamasını alınız) ve komşuları ile en fazla ortalama GDP farkı olan ilk 20 ülkeyi listeleyin."
   ]
  },
  {
   "cell_type": "code",
   "execution_count": null,
   "metadata": {},
   "outputs": [],
   "source": [
    "nbsmeans = pd.Series()\n",
    "for index, row in intersection.iterrows():\n",
    "    nbss = intersection.loc[row.name, 'neighbours']\n",
    "    if pd.isnull(nbss):\n",
    "        nbsmeans = nbsmeans.append(pd.Series([row['GDP-ortalama']]))\n",
    "    else:\n",
    "        nbsmeans = nbsmeans.append(pd.Series([intersection.loc[intersection['CountryCode'].isin(nbss.split(',')), 'GDP-ortalama'].mean()]))\n",
    "\n",
    "print(intersection['GDP-ortalama'].subtract(pd.DataFrame(nbsmeans).set_index(intersection.index.values).rename(columns={0:'nbs'})['nbs']).abs().nlargest(20))"
   ]
  },
  {
   "cell_type": "markdown",
   "metadata": {},
   "source": [
    "### Soru-7 (5 puan)\n",
    "Ülkelerin yüzey ölçümü ile nüfusları arasındaki ilişkiyi gösteren bir dağılım (scatter) grafiği çizin. Baloncuklara ülke isimlerini ekleyin."
   ]
  },
  {
   "cell_type": "code",
   "execution_count": null,
   "metadata": {},
   "outputs": [],
   "source": [
    "intersection.plot.scatter(x='Area(in sq km)',y='Population',s=50,alpha=0.5,color='red')"
   ]
  },
  {
   "cell_type": "markdown",
   "metadata": {},
   "source": [
    "### Soru - 8 (10 puan) \n",
    "İnsani gelişmişlik indeksi en yüksek 20 ülkenin, insani gelişmişlik indeksi ile ortalama GDP değerleri arasındaki ilişkiyi gösteren bir dağılım (scatter) grafiği çizin. Baloncukların büyüklüklerini, ortalama GDP değeriyle orantılayın. Baloncuklara ülke isimlerini ekleyin. Baloncukları kıtalara göre renklendirin."
   ]
  },
  {
   "cell_type": "code",
   "execution_count": null,
   "metadata": {
    "collapsed": true
   },
   "outputs": [],
   "source": [
    "dizi = intersection['HDI Rank (2015)'].nsmallest(20)\n",
    "hdi = []\n",
    "for i in intersection['HDI Rank (2015)']:\n",
    "    hdi.append(i)\n",
    "gdp = []\n",
    "for j in intersection['GDP-ortalama']:                  \n",
    "    gdp.append(j)\n",
    "gdp_size = []\n",
    "for c in gdp:\n",
    "    gdp_size.append(c/75)\n",
    "plt.scatter(x=hdi,y=gdp,s=gdp_size,color='red',alpha=0.5)\n",
    "plt.xlabel('HDI Rank (2015)')\n",
    "plt.ylabel('GDP-ortalama')\n",
    "plt.show()"
   ]
  },
  {
   "cell_type": "markdown",
   "metadata": {},
   "source": [
    "### Soru 9 (10 puan)\n",
    "1990 yılı ile 2015 yılı arasındaki GDP değeri değişimi en yüksek olan 15 ülkenin (1) 1990 ve 2015 GDP değerlerini, (2) fark  değerlerini gösteren sütun grafiklerini içeren bir şekil (figure) çizin."
   ]
  },
  {
   "cell_type": "code",
   "execution_count": null,
   "metadata": {},
   "outputs": [],
   "source": [
    "newdf2=pd.DataFrame()\n",
    "newdf2['GDPdif']=intersection.loc[:,'1990'].sub(intersection.loc[:,'2015']).abs().nlargest(15)\n",
    "for index,row in newdf2.iterrows():\n",
    "    newdf2.loc[row.name,'1990'] = intersection.loc[row.name,'1990']                             \n",
    "    newdf2.loc[row.name, '2015'] = intersection.loc[row.name, '2015']\n",
    "\n",
    "newdf2.plot.barh()\n",
    "plt.show()"
   ]
  },
  {
   "cell_type": "markdown",
   "metadata": {},
   "source": [
    "### Soru 10 (5 puan)\n",
    "Güney Amerika ('SA') ülkelerinin 1990'dan 2015'e kadar olan GDP değişimlerini yıllara göre gösteren bir çizgi (line) grafik çizin.  "
   ]
  },
  {
   "cell_type": "code",
   "execution_count": null,
   "metadata": {
    "scrolled": false
   },
   "outputs": [],
   "source": [
    "newdf = intersection[intersection.Continent=='SA']\n",
    "newdf.loc[:,'1990':'2015'].plot.line()                      \n",
    "plt.show()"
   ]
  },
  {
   "cell_type": "markdown",
   "metadata": {},
   "source": [
    "### Soru 11 (10 puan)\n",
    "Dünya'da en çok sayıda ülkede konuşulan ilk 10 dili (bir dilin ülkelere göre yerelleşmiş türlerini, aynı dil olarak kabul edin) ve konuşuldukları ülke sayılarını gösteren bir sütun grafik çizin."
   ]
  },
  {
   "cell_type": "code",
   "execution_count": null,
   "metadata": {},
   "outputs": [],
   "source": [
    "langpopularity = {}\n",
    "for index, row in intersection.iterrows():\n",
    "    ls = intersection.loc[row.name, 'Languages'].split(',')\n",
    "    ls = [i.split('-', 1)[0] for i in ls]\n",
    "    for l in ls:\n",
    "        e = langpopularity.get(l)\n",
    "        if e is None:\n",
    "            langpopularity[l] = 1\n",
    "        else:\n",
    "            langpopularity[l] += 1"
   ]
  }
 ],
 "metadata": {
  "kernelspec": {
   "display_name": "Python 3",
   "language": "python",
   "name": "python3"
  },
  "language_info": {
   "codemirror_mode": {
    "name": "ipython",
    "version": 3
   },
   "file_extension": ".py",
   "mimetype": "text/x-python",
   "name": "python",
   "nbconvert_exporter": "python",
   "pygments_lexer": "ipython3",
   "version": "3.5.2"
  }
 },
 "nbformat": 4,
 "nbformat_minor": 2
}
